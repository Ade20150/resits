{
 "cells": [
  {
   "cell_type": "code",
   "execution_count": 281,
   "metadata": {},
   "outputs": [
    {
     "name": "stdout",
     "output_type": "stream",
     "text": [
      "Requirement already satisfied: scikit-learn in /opt/homebrew/lib/python3.11/site-packages (1.3.0)\n",
      "Requirement already satisfied: numpy>=1.17.3 in /opt/homebrew/lib/python3.11/site-packages (from scikit-learn) (1.24.3)\n",
      "Requirement already satisfied: scipy>=1.5.0 in /opt/homebrew/lib/python3.11/site-packages (from scikit-learn) (1.11.1)\n",
      "Requirement already satisfied: joblib>=1.1.1 in /opt/homebrew/lib/python3.11/site-packages (from scikit-learn) (1.3.1)\n",
      "Requirement already satisfied: threadpoolctl>=2.0.0 in /opt/homebrew/lib/python3.11/site-packages (from scikit-learn) (3.2.0)\n",
      "\n",
      "\u001b[1m[\u001b[0m\u001b[34;49mnotice\u001b[0m\u001b[1;39;49m]\u001b[0m\u001b[39;49m A new release of pip is available: \u001b[0m\u001b[31;49m23.1.2\u001b[0m\u001b[39;49m -> \u001b[0m\u001b[32;49m23.2\u001b[0m\n",
      "\u001b[1m[\u001b[0m\u001b[34;49mnotice\u001b[0m\u001b[1;39;49m]\u001b[0m\u001b[39;49m To update, run: \u001b[0m\u001b[32;49mpython3.11 -m pip install --upgrade pip\u001b[0m\n",
      "Note: you may need to restart the kernel to use updated packages.\n",
      "Requirement already satisfied: pandas in /opt/homebrew/lib/python3.11/site-packages (2.0.3)\n",
      "Requirement already satisfied: python-dateutil>=2.8.2 in /opt/homebrew/lib/python3.11/site-packages (from pandas) (2.8.2)\n",
      "Requirement already satisfied: pytz>=2020.1 in /opt/homebrew/lib/python3.11/site-packages (from pandas) (2023.3)\n",
      "Requirement already satisfied: tzdata>=2022.1 in /opt/homebrew/lib/python3.11/site-packages (from pandas) (2023.3)\n",
      "Requirement already satisfied: numpy>=1.21.0 in /opt/homebrew/lib/python3.11/site-packages (from pandas) (1.24.3)\n",
      "Requirement already satisfied: six>=1.5 in /opt/homebrew/lib/python3.11/site-packages (from python-dateutil>=2.8.2->pandas) (1.16.0)\n",
      "\n",
      "\u001b[1m[\u001b[0m\u001b[34;49mnotice\u001b[0m\u001b[1;39;49m]\u001b[0m\u001b[39;49m A new release of pip is available: \u001b[0m\u001b[31;49m23.1.2\u001b[0m\u001b[39;49m -> \u001b[0m\u001b[32;49m23.2\u001b[0m\n",
      "\u001b[1m[\u001b[0m\u001b[34;49mnotice\u001b[0m\u001b[1;39;49m]\u001b[0m\u001b[39;49m To update, run: \u001b[0m\u001b[32;49mpython3.11 -m pip install --upgrade pip\u001b[0m\n",
      "Note: you may need to restart the kernel to use updated packages.\n",
      "Requirement already satisfied: matplotlib in /opt/homebrew/lib/python3.11/site-packages (3.7.2)\n",
      "Requirement already satisfied: contourpy>=1.0.1 in /opt/homebrew/lib/python3.11/site-packages (from matplotlib) (1.1.0)\n",
      "Requirement already satisfied: cycler>=0.10 in /opt/homebrew/lib/python3.11/site-packages (from matplotlib) (0.11.0)\n",
      "Requirement already satisfied: fonttools>=4.22.0 in /opt/homebrew/lib/python3.11/site-packages (from matplotlib) (4.41.0)\n",
      "Requirement already satisfied: kiwisolver>=1.0.1 in /opt/homebrew/lib/python3.11/site-packages (from matplotlib) (1.4.4)\n",
      "Requirement already satisfied: numpy>=1.20 in /opt/homebrew/lib/python3.11/site-packages (from matplotlib) (1.24.3)\n",
      "Requirement already satisfied: packaging>=20.0 in /opt/homebrew/lib/python3.11/site-packages (from matplotlib) (23.1)\n",
      "Requirement already satisfied: pillow>=6.2.0 in /opt/homebrew/lib/python3.11/site-packages (from matplotlib) (10.0.0)\n",
      "Requirement already satisfied: pyparsing<3.1,>=2.3.1 in /opt/homebrew/lib/python3.11/site-packages (from matplotlib) (3.0.9)\n",
      "Requirement already satisfied: python-dateutil>=2.7 in /opt/homebrew/lib/python3.11/site-packages (from matplotlib) (2.8.2)\n",
      "Requirement already satisfied: six>=1.5 in /opt/homebrew/lib/python3.11/site-packages (from python-dateutil>=2.7->matplotlib) (1.16.0)\n",
      "\n",
      "\u001b[1m[\u001b[0m\u001b[34;49mnotice\u001b[0m\u001b[1;39;49m]\u001b[0m\u001b[39;49m A new release of pip is available: \u001b[0m\u001b[31;49m23.1.2\u001b[0m\u001b[39;49m -> \u001b[0m\u001b[32;49m23.2\u001b[0m\n",
      "\u001b[1m[\u001b[0m\u001b[34;49mnotice\u001b[0m\u001b[1;39;49m]\u001b[0m\u001b[39;49m To update, run: \u001b[0m\u001b[32;49mpython3.11 -m pip install --upgrade pip\u001b[0m\n",
      "Note: you may need to restart the kernel to use updated packages.\n",
      "Requirement already satisfied: tensorflow in /opt/homebrew/lib/python3.11/site-packages (2.13.0)\n",
      "Requirement already satisfied: tensorflow-macos==2.13.0 in /opt/homebrew/lib/python3.11/site-packages (from tensorflow) (2.13.0)\n",
      "Requirement already satisfied: absl-py>=1.0.0 in /opt/homebrew/lib/python3.11/site-packages (from tensorflow-macos==2.13.0->tensorflow) (1.4.0)\n",
      "Requirement already satisfied: astunparse>=1.6.0 in /opt/homebrew/lib/python3.11/site-packages (from tensorflow-macos==2.13.0->tensorflow) (1.6.3)\n",
      "Requirement already satisfied: flatbuffers>=23.1.21 in /opt/homebrew/lib/python3.11/site-packages (from tensorflow-macos==2.13.0->tensorflow) (23.5.26)\n",
      "Requirement already satisfied: gast<=0.4.0,>=0.2.1 in /opt/homebrew/lib/python3.11/site-packages (from tensorflow-macos==2.13.0->tensorflow) (0.4.0)\n",
      "Requirement already satisfied: google-pasta>=0.1.1 in /opt/homebrew/lib/python3.11/site-packages (from tensorflow-macos==2.13.0->tensorflow) (0.2.0)\n",
      "Requirement already satisfied: h5py>=2.9.0 in /opt/homebrew/lib/python3.11/site-packages (from tensorflow-macos==2.13.0->tensorflow) (3.9.0)\n",
      "Requirement already satisfied: libclang>=13.0.0 in /opt/homebrew/lib/python3.11/site-packages (from tensorflow-macos==2.13.0->tensorflow) (16.0.6)\n",
      "Requirement already satisfied: numpy<=1.24.3,>=1.22 in /opt/homebrew/lib/python3.11/site-packages (from tensorflow-macos==2.13.0->tensorflow) (1.24.3)\n",
      "Requirement already satisfied: opt-einsum>=2.3.2 in /opt/homebrew/lib/python3.11/site-packages (from tensorflow-macos==2.13.0->tensorflow) (3.3.0)\n",
      "Requirement already satisfied: packaging in /opt/homebrew/lib/python3.11/site-packages (from tensorflow-macos==2.13.0->tensorflow) (23.1)\n",
      "Requirement already satisfied: protobuf!=4.21.0,!=4.21.1,!=4.21.2,!=4.21.3,!=4.21.4,!=4.21.5,<5.0.0dev,>=3.20.3 in /opt/homebrew/lib/python3.11/site-packages (from tensorflow-macos==2.13.0->tensorflow) (4.23.4)\n",
      "Requirement already satisfied: setuptools in /opt/homebrew/lib/python3.11/site-packages (from tensorflow-macos==2.13.0->tensorflow) (67.6.1)\n",
      "Requirement already satisfied: six>=1.12.0 in /opt/homebrew/lib/python3.11/site-packages (from tensorflow-macos==2.13.0->tensorflow) (1.16.0)\n",
      "Requirement already satisfied: termcolor>=1.1.0 in /opt/homebrew/lib/python3.11/site-packages (from tensorflow-macos==2.13.0->tensorflow) (2.3.0)\n",
      "Requirement already satisfied: typing-extensions<4.6.0,>=3.6.6 in /opt/homebrew/lib/python3.11/site-packages (from tensorflow-macos==2.13.0->tensorflow) (4.5.0)\n",
      "Requirement already satisfied: wrapt>=1.11.0 in /opt/homebrew/lib/python3.11/site-packages (from tensorflow-macos==2.13.0->tensorflow) (1.15.0)\n",
      "Requirement already satisfied: grpcio<2.0,>=1.24.3 in /opt/homebrew/lib/python3.11/site-packages (from tensorflow-macos==2.13.0->tensorflow) (1.56.2)\n",
      "Requirement already satisfied: tensorboard<2.14,>=2.13 in /opt/homebrew/lib/python3.11/site-packages (from tensorflow-macos==2.13.0->tensorflow) (2.13.0)\n",
      "Requirement already satisfied: tensorflow-estimator<2.14,>=2.13.0 in /opt/homebrew/lib/python3.11/site-packages (from tensorflow-macos==2.13.0->tensorflow) (2.13.0)\n",
      "Requirement already satisfied: keras<2.14,>=2.13.1 in /opt/homebrew/lib/python3.11/site-packages (from tensorflow-macos==2.13.0->tensorflow) (2.13.1)\n",
      "Requirement already satisfied: wheel<1.0,>=0.23.0 in /opt/homebrew/lib/python3.11/site-packages (from astunparse>=1.6.0->tensorflow-macos==2.13.0->tensorflow) (0.40.0)\n",
      "Requirement already satisfied: google-auth<3,>=1.6.3 in /opt/homebrew/lib/python3.11/site-packages (from tensorboard<2.14,>=2.13->tensorflow-macos==2.13.0->tensorflow) (2.22.0)\n",
      "Requirement already satisfied: google-auth-oauthlib<1.1,>=0.5 in /opt/homebrew/lib/python3.11/site-packages (from tensorboard<2.14,>=2.13->tensorflow-macos==2.13.0->tensorflow) (1.0.0)\n",
      "Requirement already satisfied: markdown>=2.6.8 in /opt/homebrew/lib/python3.11/site-packages (from tensorboard<2.14,>=2.13->tensorflow-macos==2.13.0->tensorflow) (3.4.3)\n",
      "Requirement already satisfied: requests<3,>=2.21.0 in /opt/homebrew/lib/python3.11/site-packages (from tensorboard<2.14,>=2.13->tensorflow-macos==2.13.0->tensorflow) (2.31.0)\n",
      "Requirement already satisfied: tensorboard-data-server<0.8.0,>=0.7.0 in /opt/homebrew/lib/python3.11/site-packages (from tensorboard<2.14,>=2.13->tensorflow-macos==2.13.0->tensorflow) (0.7.1)\n",
      "Requirement already satisfied: werkzeug>=1.0.1 in /opt/homebrew/lib/python3.11/site-packages (from tensorboard<2.14,>=2.13->tensorflow-macos==2.13.0->tensorflow) (2.3.6)\n",
      "Requirement already satisfied: cachetools<6.0,>=2.0.0 in /opt/homebrew/lib/python3.11/site-packages (from google-auth<3,>=1.6.3->tensorboard<2.14,>=2.13->tensorflow-macos==2.13.0->tensorflow) (5.3.1)\n",
      "Requirement already satisfied: pyasn1-modules>=0.2.1 in /opt/homebrew/lib/python3.11/site-packages (from google-auth<3,>=1.6.3->tensorboard<2.14,>=2.13->tensorflow-macos==2.13.0->tensorflow) (0.3.0)\n",
      "Requirement already satisfied: rsa<5,>=3.1.4 in /opt/homebrew/lib/python3.11/site-packages (from google-auth<3,>=1.6.3->tensorboard<2.14,>=2.13->tensorflow-macos==2.13.0->tensorflow) (4.9)\n",
      "Requirement already satisfied: urllib3<2.0 in /opt/homebrew/lib/python3.11/site-packages (from google-auth<3,>=1.6.3->tensorboard<2.14,>=2.13->tensorflow-macos==2.13.0->tensorflow) (1.26.16)\n"
     ]
    },
    {
     "name": "stdout",
     "output_type": "stream",
     "text": [
      "Requirement already satisfied: requests-oauthlib>=0.7.0 in /opt/homebrew/lib/python3.11/site-packages (from google-auth-oauthlib<1.1,>=0.5->tensorboard<2.14,>=2.13->tensorflow-macos==2.13.0->tensorflow) (1.3.1)\n",
      "Requirement already satisfied: charset-normalizer<4,>=2 in /opt/homebrew/lib/python3.11/site-packages (from requests<3,>=2.21.0->tensorboard<2.14,>=2.13->tensorflow-macos==2.13.0->tensorflow) (3.1.0)\n",
      "Requirement already satisfied: idna<4,>=2.5 in /opt/homebrew/lib/python3.11/site-packages (from requests<3,>=2.21.0->tensorboard<2.14,>=2.13->tensorflow-macos==2.13.0->tensorflow) (3.4)\n",
      "Requirement already satisfied: certifi>=2017.4.17 in /opt/homebrew/lib/python3.11/site-packages (from requests<3,>=2.21.0->tensorboard<2.14,>=2.13->tensorflow-macos==2.13.0->tensorflow) (2023.5.7)\n",
      "Requirement already satisfied: MarkupSafe>=2.1.1 in /opt/homebrew/lib/python3.11/site-packages (from werkzeug>=1.0.1->tensorboard<2.14,>=2.13->tensorflow-macos==2.13.0->tensorflow) (2.1.3)\n",
      "Requirement already satisfied: pyasn1<0.6.0,>=0.4.6 in /opt/homebrew/lib/python3.11/site-packages (from pyasn1-modules>=0.2.1->google-auth<3,>=1.6.3->tensorboard<2.14,>=2.13->tensorflow-macos==2.13.0->tensorflow) (0.5.0)\n",
      "Requirement already satisfied: oauthlib>=3.0.0 in /opt/homebrew/lib/python3.11/site-packages (from requests-oauthlib>=0.7.0->google-auth-oauthlib<1.1,>=0.5->tensorboard<2.14,>=2.13->tensorflow-macos==2.13.0->tensorflow) (3.2.2)\n",
      "\n",
      "\u001b[1m[\u001b[0m\u001b[34;49mnotice\u001b[0m\u001b[1;39;49m]\u001b[0m\u001b[39;49m A new release of pip is available: \u001b[0m\u001b[31;49m23.1.2\u001b[0m\u001b[39;49m -> \u001b[0m\u001b[32;49m23.2\u001b[0m\n",
      "\u001b[1m[\u001b[0m\u001b[34;49mnotice\u001b[0m\u001b[1;39;49m]\u001b[0m\u001b[39;49m To update, run: \u001b[0m\u001b[32;49mpython3.11 -m pip install --upgrade pip\u001b[0m\n",
      "Note: you may need to restart the kernel to use updated packages.\n"
     ]
    }
   ],
   "source": [
    "import sys\n",
    "assert sys.version_info >= (3, 5)\n",
    "# Python ≥3.5 is required\n",
    "%pip install scikit-learn\n",
    "%pip install pandas\n",
    "%pip install matplotlib\n",
    "%pip install tensorflow"
   ]
  },
  {
   "cell_type": "code",
   "execution_count": 282,
   "metadata": {},
   "outputs": [],
   "source": [
    "import sklearn\n",
    "import skfuzzy\n"
   ]
  },
  {
   "cell_type": "code",
   "execution_count": 283,
   "metadata": {},
   "outputs": [],
   "source": [
    "# Common imports\n",
    "import numpy as np\n",
    "import os\n",
    "import tarfile\n",
    "import urllib\n",
    "import pandas as pd\n",
    "import urllib.request\n",
    "from sklearn.preprocessing import MinMaxScaler\n"
   ]
  },
  {
   "cell_type": "code",
   "execution_count": 284,
   "metadata": {},
   "outputs": [],
   "source": [
    "# To plot pretty figures\n",
    "%matplotlib inline\n",
    "import matplotlib as mpl\n",
    "import matplotlib.pyplot as plt"
   ]
  },
  {
   "cell_type": "markdown",
   "metadata": {},
   "source": [
    "1. Data Analysis and Bayes Nets"
   ]
  },
  {
   "cell_type": "code",
   "execution_count": 306,
   "metadata": {},
   "outputs": [],
   "source": [
    "# creating a numpy array from a npy file\n",
    "\n",
    "arrayX = np.load(\"smiley_noisy_X.npy\")\n",
    "arrayY = np.load(\"smiley_noisy_Y.npy\")\n"
   ]
  },
  {
   "cell_type": "code",
   "execution_count": 304,
   "metadata": {},
   "outputs": [
    {
     "data": {
      "image/png": "[encoded data removed]",
      "text/plain": [
       "<Figure size 640x480 with 1 Axes>"
      ]
     },
     "metadata": {},
     "output_type": "display_data"
    }
   ],
   "source": [
    "# showing the images the faces create based on each element in the array\n",
    "plt.imshow(arrayX[100])\n",
    "plt.show()\n"
   ]
  },
  {
   "cell_type": "code",
   "execution_count": 287,
   "metadata": {},
   "outputs": [
    {
     "name": "stdout",
     "output_type": "stream",
     "text": [
      "1.0\n"
     ]
    }
   ],
   "source": [
    "print(arrayY[100])"
   ]
  },
  {
   "cell_type": "code",
   "execution_count": 288,
   "metadata": {},
   "outputs": [
    {
     "name": "stdout",
     "output_type": "stream",
     "text": [
      "0.0\n"
     ]
    }
   ],
   "source": [
    "#so each pixel is considered a single data point making visualisation easier \n",
    "flattened = arrayX.flatten()\n",
    "print(flattened[500])"
   ]
  },
  {
   "cell_type": "code",
   "execution_count": 289,
   "metadata": {},
   "outputs": [
    {
     "data": {
      "image/png": "[encoded data removed]",
      "text/plain": [
       "<Figure size 640x480 with 1 Axes>"
      ]
     },
     "metadata": {},
     "output_type": "display_data"
    }
   ],
   "source": [
    "#makes sure all the values are 0 and 1 \n",
    "plt.hist(flattened, bins=500)\n",
    "plt.show()"
   ]
  },
  {
   "cell_type": "code",
   "execution_count": 30,
   "metadata": {},
   "outputs": [
    {
     "data": {
      "image/png": "[encoded data removed]",
      "text/plain": [
       "<Figure size 640x480 with 1 Axes>"
      ]
     },
     "metadata": {},
     "output_type": "display_data"
    }
   ],
   "source": [
    "# This will be important later as some of the classification algos are sensitive to imbalanced datasets\n",
    "plt.hist(arrayY, bins=500)\n",
    "plt.show()"
   ]
  },
  {
   "cell_type": "code",
   "execution_count": null,
   "metadata": {},
   "outputs": [],
   "source": []
  },
  {
   "cell_type": "code",
   "execution_count": 31,
   "metadata": {},
   "outputs": [
    {
     "name": "stdout",
     "output_type": "stream",
     "text": [
      "Mean number of pixels:  8.686274509803921\n"
     ]
    }
   ],
   "source": [
    "#to find the mean number of 1s/pixels in the image dataset just so we know whats is going on\n",
    "noOfOnes = []\n",
    "for one in arrayX:\n",
    "    ones_count = np.count_nonzero(one == 1)\n",
    "    noOfOnes.append(ones_count)\n",
    "overall_mean = np.mean(noOfOnes)\n",
    "print(\"Mean number of pixels: \",overall_mean)\n"
   ]
  },
  {
   "cell_type": "code",
   "execution_count": 305,
   "metadata": {},
   "outputs": [
    {
     "name": "stdout",
     "output_type": "stream",
     "text": [
      "(204, 13)\n"
     ]
    }
   ],
   "source": [
    "from sklearn.decomposition import PCA\n",
    "# reduces the dimensionality from 4 to 2 so it can be used to train and test the dataset\n",
    "a = arrayX.reshape(204,-1)\n",
    "# keeps 95% of the variablity in the dataset while reducing the noise in the dataset\n",
    "Pc = PCA(n_components=0.90, random_state=2020)\n",
    "x = Pc.fit_transform(a)\n",
    "print(x.shape)"
   ]
  },
  {
   "cell_type": "markdown",
   "metadata": {},
   "source": [
    "PCA is used to reduce the dimensionality and keep the significant parts of the dataset and while there is still noise from looking at my algorithms performance throughout its clear that despite the noise there still able to capture the appropiate information as they have high accuracys with both seen and unseen data. Using spicy.ndimage and its various denoising techniques i wasnt able to figure out how to denoise my dataset as a result i belive that throughout there is a possibility that quite a few of my algorithms are training with the noise in this dataset and as a result it may not generalize well to another real world dataset. Luckily i also have the non noisy dataset that i can use throughout to evaluate this one and what i found via a few quick tests with K-means, agglomerative clustering, logistic regression and naive bayes is i still got a high accuracy and thier other associated scores usually at around 80% but this means that the noise present in the noisy dataset isnt too affecting when trying to discover the underlaying patterns. The only difference i found is that when using PCA to keep 90% of the variance the noisy dataset kept 13 dimensions while the non noisy datset kept only 12 that extra dimension will be due to the noise and its removal would likely help my algorithms achieve even better results. I will maintain the 13 dimensions as the non noisy dataset isnt perfect in terms of having no artefacts"
   ]
  },
  {
   "cell_type": "code",
   "execution_count": 317,
   "metadata": {},
   "outputs": [
    {
     "name": "stdout",
     "output_type": "stream",
     "text": [
      "(204, 9, 9, 1)\n"
     ]
    }
   ],
   "source": [
    "# splitting the dataset so that a classifier can be trained using it \n",
    "# FGor the future while processing we will maintain these reduction in dimensionality as it results in less complexity when processing the data \n",
    "from sklearn.model_selection import train_test_split\n",
    "X_train, X_test, y_train, y_test = train_test_split(x,arrayY,test_size=0.2,random_state=42)\n",
    "print(arrayX.shape)"
   ]
  },
  {
   "cell_type": "code",
   "execution_count": 318,
   "metadata": {},
   "outputs": [
    {
     "name": "stdout",
     "output_type": "stream",
     "text": [
      "GaussianNB()\n"
     ]
    }
   ],
   "source": [
    "#naive bayes classifier and training the classifier\n",
    "from sklearn.naive_bayes import GaussianNB\n",
    "NaiveBayes = GaussianNB()\n",
    "bat = NaiveBayes.fit(X_train, y_train)\n",
    "predicted = NaiveBayes.predict(X_test)\n",
    "print(bat)\n"
   ]
  },
  {
   "cell_type": "code",
   "execution_count": 319,
   "metadata": {},
   "outputs": [
    {
     "name": "stdout",
     "output_type": "stream",
     "text": [
      "accuracy:  0.926829268292683\n",
      "F1 Score:  0.9279279279279279\n"
     ]
    },
    {
     "data": {
      "image/png": "[encoded data removed]",
      "text/plain": [
       "<Figure size 640x480 with 2 Axes>"
      ]
     },
     "metadata": {},
     "output_type": "display_data"
    }
   ],
   "source": [
    "#https://www.datacamp.com/tutorial/naive-bayes-scikit-learn\n",
    "#running naive bayes on unseen data and providing the evaluation metrics\n",
    "from sklearn.metrics import confusion_matrix,ConfusionMatrixDisplay, accuracy_score, roc_auc_score,roc_curve, classification_report,mean_squared_error,f1_score,recall_score,precision_score\n",
    "accuracy = accuracy_score(predicted, y_test)\n",
    "f1 = f1_score(predicted, y_test, average=\"weighted\")\n",
    "# To label the confusion matrix\n",
    "labels = [0,1,2]\n",
    "confusion = confusion_matrix(y_test,predicted, labels=labels)\n",
    "disp = ConfusionMatrixDisplay(confusion_matrix=confusion, display_labels=labels)\n",
    "disp.plot()\n",
    "\n",
    "print(\"accuracy: \",accuracy)\n",
    "print(\"F1 Score: \", f1)\n",
    "\n"
   ]
  },
  {
   "cell_type": "code",
   "execution_count": 323,
   "metadata": {},
   "outputs": [
    {
     "name": "stdout",
     "output_type": "stream",
     "text": [
      "Selected feature indices for each class:\n",
      "Class 0: [2 5 6]\n",
      "Class 1: [ 7  8 11]\n",
      "Class 2: [ 5  6 11]\n"
     ]
    }
   ],
   "source": [
    "# Using recursive feature elimination to find the features that most contribute to the target attribute\n",
    "# RFE also uses greedy search to find the best features\n",
    "from sklearn.feature_selection import RFE\n",
    "from sklearn.linear_model import LogisticRegression\n",
    "# Uses logistic regression to determine the best features. Keep the implementation here seperate as it can cause overfitting as it trains on the whole dataset\n",
    "model1 = LogisticRegression()\n",
    "rfer = RFE(estimator=model1, n_features_to_select=3)\n",
    "selected_indices = []\n",
    "selected = []\n",
    "\n",
    "# Only trains the algorithim based on the class 0,1,2 with the assocated faces\n",
    "for i in range(3):\n",
    "    fit = rfer.fit_transform(x,(arrayY==i))\n",
    "    selected_indices.append(np.where(rfer.support_)[0])\n",
    "    selected.append(fit)\n",
    "merged = np.concatenate(selected, axis=1)\n",
    "print(\"Selected feature indices for each class:\")\n",
    "for i, indices in enumerate(selected_indices):\n",
    "    print(f\"Class {i}: {indices}\")"
   ]
  },
  {
   "cell_type": "code",
   "execution_count": 325,
   "metadata": {},
   "outputs": [],
   "source": [
    "X_train2, X_test2, y_train2, y_test2 = train_test_split(merged,arrayY,test_size=0.2,random_state=42)"
   ]
  },
  {
   "cell_type": "code",
   "execution_count": 326,
   "metadata": {},
   "outputs": [
    {
     "name": "stdout",
     "output_type": "stream",
     "text": [
      "accuracy:  0.926829268292683\n",
      "F1 Score:  0.9279279279279279\n"
     ]
    },
    {
     "data": {
      "image/png": "[encoded data removed]",
      "text/plain": [
       "<Figure size 640x480 with 2 Axes>"
      ]
     },
     "metadata": {},
     "output_type": "display_data"
    }
   ],
   "source": [
    "# Using Naive Bayes to see how the features can affect evaluation metrics \n",
    "from sklearn.naive_bayes import GaussianNB\n",
    "NaiveBayes1 = GaussianNB()\n",
    "NaiveBayes1.fit(X_train2,y_train2)\n",
    "predicted = NaiveBayes1.predict(X_test2)\n",
    "#Finding the accuracy on unseen data \n",
    "accuracy = accuracy_score(predicted, y_test2)\n",
    "f1 = f1_score(predicted, y_test2, average=\"weighted\")\n",
    "labels = [0,1,2]\n",
    "confusion = confusion_matrix(y_test2,predicted, labels=labels)\n",
    "disp = ConfusionMatrixDisplay(confusion_matrix=confusion, display_labels=labels)\n",
    "disp.plot()\n",
    "# When using the 3 top features to make up another dataset i get the same accuracy as the original dataset. This may suggest a further dimensionality reduction from 13 to 9 may not have an adverse efffect on the dataset \n",
    "# In fact the confusion matrix is the exact same as the original dataset which means that the features missing after RFE may not be significant alone\n",
    "# Though the classes are not represented equally because 0 and 1 are perfectly predicted compared to 2 which is still missclassified\n",
    "# When using the 6 top features i got a perfect accuracy. this is likely due to the repeated features in the dataset causing overfitting as the classifier begins to learn a complex pattern that only really works with this data \n",
    "print(\"accuracy: \",accuracy)\n",
    "print(\"F1 Score: \", f1)"
   ]
  },
  {
   "cell_type": "markdown",
   "metadata": {},
   "source": [
    "When looking at the top 3 features that correlate the most per class there are a few that repeat for 2 classes but none that repeat over all 3. This suggests that there is some distinction between the three that is represented even with the dimensionality of the overall dataset reduced. When using a combination of these features with some repition amoung the features for 3 features for each of the 3 classess we get the same accuracy as the original dataset suggesting these features are all that are neccesary for algorithms predicting class whereas when using 6 of the top features for each you get a perfect score for all metrics which is likely due to overfitting from naive bayes learning the patterns in the dataset too well. The features that were not important from my tests were 0,1,3,4,9,10,12 but they will still be included in the other algorithms as these features may still help to provide variability and distinction between the 3 classes "
   ]
  },
  {
   "cell_type": "markdown",
   "metadata": {},
   "source": [
    "2. Clustering"
   ]
  },
  {
   "cell_type": "markdown",
   "metadata": {},
   "source": [
    "K - means clustering - Hard clustering"
   ]
  },
  {
   "cell_type": "code",
   "execution_count": 44,
   "metadata": {},
   "outputs": [],
   "source": [
    "# associates the most probable label(happy,sad,neutral) with each cluster \n",
    "def retrieve(label, y_train):\n",
    "    reference_labels = {}\n",
    "    #for loop to run through each label\n",
    "    for i in range(len(np.unique(label))):\n",
    "        # assigns a 1 to to cluster labels associated with i and 0 to those that are not\n",
    "        index = np.where(label == i,1,0)\n",
    "        # finds the label with the highest count for the cluster\n",
    "        num = np.bincount(y_train[index == 1]).argmax()\n",
    "        # The cluster i acts as a key and the most probable true label is assigned to it\n",
    "        reference_labels[i] = num\n",
    "    return reference_labels"
   ]
  },
  {
   "cell_type": "code",
   "execution_count": 45,
   "metadata": {},
   "outputs": [],
   "source": [
    "y_train = y_train.astype(int)"
   ]
  },
  {
   "cell_type": "code",
   "execution_count": 166,
   "metadata": {},
   "outputs": [
    {
     "name": "stdout",
     "output_type": "stream",
     "text": [
      "Number of clusters: 3, Accuracy score: 0.6503067484662577, Rand index: 0.36922091708053467, Silhouette score:0.2115167416831368\n",
      "Number of clusters: 4, Accuracy score: 0.6625766871165644, Rand index: 0.3426741232821378, Silhouette score:0.26533965516997665\n",
      "Number of clusters: 5, Accuracy score: 0.6625766871165644, Rand index: 0.3426741232821378, Silhouette score:0.3091751786138826\n",
      "Number of clusters: 6, Accuracy score: 0.7361963190184049, Rand index: 0.3498122175688358, Silhouette score:0.3185683163242803\n",
      "Number of clusters: 7, Accuracy score: 0.8282208588957055, Rand index: 0.5354426578580983, Silhouette score:0.3221721347608679\n",
      "Number of clusters: 8, Accuracy score: 0.7361963190184049, Rand index: 0.3801356841935824, Silhouette score:0.32378649678070753\n",
      "Number of clusters: 9, Accuracy score: 0.8282208588957055, Rand index: 0.5354426578580983, Silhouette score:0.3414611242424903\n",
      "Number of clusters: 10, Accuracy score: 0.8282208588957055, Rand index: 0.5354426578580983, Silhouette score:0.3157332532869153\n",
      "Number of clusters: 11, Accuracy score: 0.8282208588957055, Rand index: 0.5354426578580983, Silhouette score:0.30444565849955524\n",
      "Number of clusters: 12, Accuracy score: 0.8711656441717791, Rand index: 0.6490964615749398, Silhouette score:0.31258465174837724\n",
      "Number of clusters: 13, Accuracy score: 0.8588957055214724, Rand index: 0.6164365550199548, Silhouette score:0.3002815050994707\n",
      "Number of clusters: 14, Accuracy score: 0.901840490797546, Rand index: 0.7287863706901865, Silhouette score:0.2872157363325877\n",
      "Number of clusters: 15, Accuracy score: 0.8588957055214724, Rand index: 0.6188406665553531, Silhouette score:0.2922299364620807\n",
      "Number of clusters: 16, Accuracy score: 0.8588957055214724, Rand index: 0.6102618309390168, Silhouette score:0.29473258561882654\n",
      "Number of clusters: 17, Accuracy score: 0.9447852760736196, Rand index: 0.8490143501296424, Silhouette score:0.30660587369848824\n",
      "Number of clusters: 18, Accuracy score: 0.8834355828220859, Rand index: 0.7058443558816836, Silhouette score:0.29866822357211986\n",
      "Number of clusters: 19, Accuracy score: 0.9386503067484663, Rand index: 0.8240670658012011, Silhouette score:0.3019205587717131\n",
      "Number of clusters: 20, Accuracy score: 0.8650306748466258, Rand index: 0.6293241947088868, Silhouette score:0.3252185604062629\n",
      "Number of clusters: 21, Accuracy score: 0.9754601226993865, Rand index: 0.9287057424943084, Silhouette score:0.3171955028712608\n",
      "Number of clusters: 22, Accuracy score: 0.950920245398773, Rand index: 0.8646083447126562, Silhouette score:0.31837641845283376\n",
      "Number of clusters: 23, Accuracy score: 0.9693251533742331, Rand index: 0.9125724032363874, Silhouette score:0.32787322876148595\n",
      "Number of clusters: 24, Accuracy score: 0.9141104294478528, Rand index: 0.7565939020128677, Silhouette score:0.33917117151246473\n",
      "Number of clusters: 25, Accuracy score: 0.9693251533742331, Rand index: 0.9125724032363874, Silhouette score:0.33675516864906113\n",
      "Number of clusters: 26, Accuracy score: 0.9570552147239264, Rand index: 0.8775557874955743, Silhouette score:0.34549857079080404\n",
      "Number of clusters: 27, Accuracy score: 0.950920245398773, Rand index: 0.8610011524076638, Silhouette score:0.35448437249219267\n"
     ]
    }
   ],
   "source": [
    "from sklearn.cluster import KMeans\n",
    "from sklearn.metrics import accuracy_score, adjusted_rand_score, silhouette_score\n",
    "\n",
    "# Initialize a list to store evaluation metrics\n",
    "accuracy_scores = []\n",
    "Rand_index = []\n",
    "silhouette_scores = []\n",
    "# K means clustering is used hard clustering coverges to a local minimum not a global \n",
    "# dont want the number of clusters to be too high to prevent overfitting\n",
    "\n",
    "for i in range(25):\n",
    "    k = i + 2\n",
    "    kmeans = KMeans(n_clusters=k, random_state=20)\n",
    "    y_kmeans = kmeans.fit_predict(X_train)\n",
    "\n",
    "   # This then assigns the most probable label to each data point so we can use the accuracy score metric\n",
    "# https://medium.com/@joel_34096/k-means-clustering-for-image-classification-a648f28bdc47#:~:text=Yes!,Here%27s%20how.&text=K%2Dmeans%20clustering%20is%20an,cluster%20with%20the%20nearest%20centroid.\n",
    "    reference_labels = retrieve(y_kmeans, y_train)\n",
    "    for j in range(len(y_kmeans)):\n",
    "        numbe_lab[j] = reference_labels[y_kmeans[j]]\n",
    "\n",
    "    # Calculates the evaluation metrics\n",
    "    score = accuracy_score(numbe_lab, y_train)\n",
    "    accuracy_scores.append(score)\n",
    "    rand = adjusted_rand_score(numbe_lab, y_train)\n",
    "    Rand_index.append(rand)\n",
    "    silhouette = silhouette_score(X_train, y_kmeans)\n",
    "    silhouette_scores.append(silhouette)\n",
    "\n",
    "# Prints accuracy scores and adjusted rand index using zip allows me to iterate over both\n",
    "for k, (score, rand, silhouette) in enumerate(zip(accuracy_scores,Rand_index,silhouette_scores), start=3):\n",
    "    print(f\"Number of clusters: {k}, Accuracy score: {score}, Rand index: {rand}, Silhouette score:{silhouette}\")\n",
    "# we have the true labels to evaluate our clustering\n",
    "#adjusted rand index is a simirality measure between the clustering labels and adjusts for chance\n",
    "# measures how well the kmeans clustering does compared to the real clustering of the images \n",
    "# https://oecd.ai/en/catalogue/metrics/adjusted-rand-index-%28ari%29"
   ]
  },
  {
   "cell_type": "code",
   "execution_count": 292,
   "metadata": {},
   "outputs": [
    {
     "name": "stdout",
     "output_type": "stream",
     "text": [
      "0.926829268292683 0.8107439122290607\n"
     ]
    }
   ],
   "source": [
    "y_test = y_test.astype(int)\n",
    "k = 18\n",
    "kmeans = KMeans(n_clusters=k, random_state=20)\n",
    "y_kmeans = kmeans.fit_predict(X_test)\n",
    "\n",
    "   # This then assigns the most probable label to each data point so we can use the accuracy score metric\n",
    "# https://medium.com/@joel_34096/k-means-clustering-for-image-classification-a648f28bdc47#:~:text=Yes!,Here%27s%20how.&text=K%2Dmeans%20clustering%20is%20an,cluster%20with%20the%20nearest%20centroid.\n",
    "reference_labels = retrieve(y_kmeans, y_test)\n",
    "numbe_lab = np.random.rand(len(y_kmeans))\n",
    "for j in range(len(y_kmeans)):\n",
    "    numbe_lab[j] = reference_labels[y_kmeans[j]]\n",
    "\n",
    "# Calculates the accuracy score\n",
    "score = accuracy_score(numbe_lab, y_test)\n",
    "rand = adjusted_rand_score(numbe_lab, y_test)\n",
    "print(score, rand)\n",
    "# High results for training and testing data suggesting that overfitting is not occuring\n",
    "# Result is slightly lower than the naive bayes classification. The greatest flaw when compared to naive bayes is that to evaluate accuracy the clusters are assigned labels based on what the majority of the cluster so a sad face could be in a label that is deigned as neutral\n",
    "# That being said it still works to give high accuracy and a rand score so we can say this method is succesful"
   ]
  },
  {
   "cell_type": "code",
   "execution_count": 114,
   "metadata": {},
   "outputs": [
    {
     "data": {
      "image/png": "[encoded data removed]",
      "text/plain": [
       "<Figure size 800x400 with 1 Axes>"
      ]
     },
     "metadata": {},
     "output_type": "display_data"
    }
   ],
   "source": [
    "# Visualize clusters\n",
    "plt.figure(figsize=(8, 4))\n",
    "plt.scatter(X_train[:, 0], X_train[:, 1], c=y_kmeans, s=50, cmap='viridis')\n",
    "\n",
    "plt.xlabel(\"Feature 1\")\n",
    "plt.ylabel(\"Feature 2\")\n",
    "plt.title(\"K-means Clustering of 9x9 Images\")\n",
    "plt.show()\n",
    "# Shows our dataset is very linear"
   ]
  },
  {
   "cell_type": "code",
   "execution_count": 105,
   "metadata": {},
   "outputs": [
    {
     "data": {
      "image/png": "[encoded data removed]",
      "text/plain": [
       "<Figure size 1600x800 with 1 Axes>"
      ]
     },
     "metadata": {},
     "output_type": "display_data"
    }
   ],
   "source": [
    "# Elbow method for k means clustering\n",
    "#https://predictivehacks.com/k-means-elbow-method-code-for-python/\n",
    "import warnings\n",
    "warnings.filterwarnings(\"ignore\")\n",
    "distortions = []\n",
    "K = range(1,29)\n",
    "for k in K:\n",
    "    KMEANS = KMeans(n_clusters=k, random_state=20)\n",
    "    KMEANS.fit(X_train)\n",
    "    #Measures how well a dataset is clustered but we also want the lowest number of clusters as possible\n",
    "    #Inertia usually decreases along with the number of clusters\n",
    "    distortions.append(KMEANS.inertia_)\n",
    "plt.figure(figsize=(16,8))\n",
    "plt.plot(K, distortions, 'bx-')\n",
    "plt.xlabel('k')\n",
    "plt.ylabel('distortion')\n",
    "plt.title('elbow method to find optimal number of clusters')\n",
    "plt.show()\n",
    "# This would be incredibly useful if we did not have the real labels\n",
    "# But as shown above its unrealible when using it to come up with the best number of clusters "
   ]
  },
  {
   "cell_type": "markdown",
   "metadata": {},
   "source": [
    "The elbow here is when the nuber of clusters = 8 when looking at how accurate the cluster is when its 8 the figure is still acceptable so by that metric we can say that the elbow method is useful if we were using this unsupervised algorithm without the true labels.\n",
    "Also we get a high accuracy and adjusted rand index however the silhouette score remains low, i dont think the low silhouette score is significant enough to revaluate the clusters especially as the accuracy and adjusted rand index stay high even when tested on unseen data. The conclusion we can come to from this is that there is some natural overlap of clusters here. Also with a silhouette score of 0.3 the clusters are still somewhat distinct anyway."
   ]
  },
  {
   "cell_type": "code",
   "execution_count": 50,
   "metadata": {},
   "outputs": [],
   "source": [
    "# Hierachical clustering - A method of hard clustering"
   ]
  },
  {
   "cell_type": "code",
   "execution_count": 51,
   "metadata": {},
   "outputs": [
    {
     "data": {
      "image/png": "[encoded data removed]",
      "text/plain": [
       "<Figure size 640x480 with 1 Axes>"
      ]
     },
     "metadata": {},
     "output_type": "display_data"
    }
   ],
   "source": [
    "# Considers each image as its own cluster then slowly groups them up based on how similar they are\n",
    "#Simirality is based on using eucledian distances\n",
    "from scipy.cluster import hierarchy\n",
    "from sklearn.cluster import AgglomerativeClustering\n",
    "# links each image to its real classification\n",
    "tree = hierarchy.dendrogram(hierarchy.linkage(x, method='ward'))\n",
    "# Use this tree so that i can choose the optimal number of clusters\n",
    "# If i didnt already have the true labels i would still choose 3"
   ]
  },
  {
   "cell_type": "code",
   "execution_count": 52,
   "metadata": {},
   "outputs": [
    {
     "name": "stdout",
     "output_type": "stream",
     "text": [
      "[0 0 0 0 0 0 0 0 0 0 0 0 0 0 0 0 0 0 0 0 0 0 0 0 0 0 0 0 0 0 0 0 0 0 0 0 0\n",
      " 0 0 0 0 0 0 0 0 0 0 0 0 0 0 0 0 0 0 0 0 0 0 0 0 0 0 0 0 0 0 0 0 0 0 0 0 0\n",
      " 0 0 0 0 0 0 0 0 0 0 0 0 0 0 0 0 0 0 0 0 0 0 0 0 0 0 0 0 0 0 0 0 0 0 0 0 0\n",
      " 0 0 0 0 0 0 0 0 0 0 0 0 0 0 0 0 0 0 0 0 0 0 0 0 0 0 0 0 0 0 0 0 0 0 0 0 0\n",
      " 0 0 0 0 0 0 0 0 0 0 0 0 0 0 0]\n",
      "[0 1 1 1 1 1 1 2 0 2 1 2 2 2 0 0 2 0 1 2 1 1 1 2 1 0 1 2 0 2 0 0 1 1 0 0 1\n",
      " 2 1 0 2 2 0 0 2 2 2 1 1 0 2 1 0 1 2 0 1 2 1 0 2 1 1 2 1 2 2 0 0 0 1 2 0 2\n",
      " 2 0 0 0 2 1 1 1 0 2 0 2 1 2 2 2 2 1 1 0 1 0 1 2 2 1 0 0 0 1 0 0 2 1 2 1 2\n",
      " 2 0 0 2 2 2 0 1 0 2 2 0 0 1 0 0 0 1 0 0 1 0 0 2 2 0 1 0 0 1 2 0 2 0 2 0 2\n",
      " 1 1 0 2 2 0 0 2 0 2 1 2 1 1 1]\n"
     ]
    }
   ],
   "source": [
    "m = 0 + 1\n",
    "hierachical_cluster = AgglomerativeClustering(n_clusters = m, affinity='euclidean', linkage='ward')\n",
    "hierachical_label = hierachical_cluster.fit_predict(X_train)\n",
    "hierachical_label = hierachical_label.astype(int)\n",
    "print(hierachical_label)\n",
    "print(y_train)\n",
    "# Here there are empty cluster because unlike k means where each data point is assigned to a cluster in hierarchical clustering these data points start as there own clusters and are then grouped together"
   ]
  },
  {
   "cell_type": "code",
   "execution_count": 172,
   "metadata": {},
   "outputs": [
    {
     "name": "stdout",
     "output_type": "stream",
     "text": [
      "Number of clusters: 2, Accuracy score: 0.6503067484662577, adjusted rand index: 0.36922091708053467, silhouette scores:0.2115167416831368\n",
      "Number of clusters: 3, Accuracy score: 0.6625766871165644, adjusted rand index: 0.3426741232821378, silhouette scores:0.26533965516997665\n",
      "Number of clusters: 4, Accuracy score: 0.6625766871165644, adjusted rand index: 0.3426741232821378, silhouette scores:0.3091751786138826\n",
      "Number of clusters: 5, Accuracy score: 0.7361963190184049, adjusted rand index: 0.3498122175688358, silhouette scores:0.3185683163242803\n",
      "Number of clusters: 6, Accuracy score: 0.8282208588957055, adjusted rand index: 0.5354426578580983, silhouette scores:0.3221721347608679\n",
      "Number of clusters: 7, Accuracy score: 0.8282208588957055, adjusted rand index: 0.5354426578580983, silhouette scores:0.34651223934835046\n",
      "Number of clusters: 8, Accuracy score: 0.8282208588957055, adjusted rand index: 0.5354426578580983, silhouette scores:0.3292735763048519\n",
      "Number of clusters: 9, Accuracy score: 0.8282208588957055, adjusted rand index: 0.5354426578580983, silhouette scores:0.31012782144297535\n",
      "Number of clusters: 10, Accuracy score: 0.8282208588957055, adjusted rand index: 0.5354426578580983, silhouette scores:0.31781852094354796\n",
      "Number of clusters: 11, Accuracy score: 0.8282208588957055, adjusted rand index: 0.5354426578580983, silhouette scores:0.30989941183762815\n",
      "Number of clusters: 12, Accuracy score: 0.8282208588957055, adjusted rand index: 0.5354426578580983, silhouette scores:0.3020167783644466\n",
      "Number of clusters: 13, Accuracy score: 0.8404907975460123, adjusted rand index: 0.5705516945216773, silhouette scores:0.3067225166196635\n",
      "Number of clusters: 14, Accuracy score: 0.8773006134969326, adjusted rand index: 0.6716013928326754, silhouette scores:0.31375389873431836\n",
      "Number of clusters: 15, Accuracy score: 0.9079754601226994, adjusted rand index: 0.7420213883961225, silhouette scores:0.31293746528074506\n",
      "Number of clusters: 16, Accuracy score: 0.9079754601226994, adjusted rand index: 0.7420213883961225, silhouette scores:0.3102135246889827\n",
      "Number of clusters: 17, Accuracy score: 0.9079754601226994, adjusted rand index: 0.7420213883961225, silhouette scores:0.3210407557658695\n",
      "Number of clusters: 18, Accuracy score: 0.9263803680981595, adjusted rand index: 0.7925288136922274, silhouette scores:0.32788800149547026\n",
      "Number of clusters: 19, Accuracy score: 0.9263803680981595, adjusted rand index: 0.7925288136922274, silhouette scores:0.32825631588296017\n",
      "Number of clusters: 20, Accuracy score: 0.9263803680981595, adjusted rand index: 0.7925288136922274, silhouette scores:0.33082333509319106\n",
      "Number of clusters: 21, Accuracy score: 0.9263803680981595, adjusted rand index: 0.7925288136922274, silhouette scores:0.3416733317993637\n",
      "Number of clusters: 22, Accuracy score: 0.9263803680981595, adjusted rand index: 0.7925288136922274, silhouette scores:0.3454448310495924\n",
      "Number of clusters: 23, Accuracy score: 0.9263803680981595, adjusted rand index: 0.7925288136922274, silhouette scores:0.3484549021320806\n",
      "Number of clusters: 24, Accuracy score: 0.9263803680981595, adjusted rand index: 0.7925288136922274, silhouette scores:0.3542495604299084\n",
      "Number of clusters: 25, Accuracy score: 0.9263803680981595, adjusted rand index: 0.7925288136922274, silhouette scores:0.3682477355062928\n",
      "Number of clusters: 26, Accuracy score: 0.9263803680981595, adjusted rand index: 0.7925288136922274, silhouette scores:0.37755986602125857\n",
      "Number of clusters: 27, Accuracy score: 0.9263803680981595, adjusted rand index: 0.7925288136922274, silhouette scores:0.3844525390790079\n",
      "Number of clusters: 28, Accuracy score: 0.9263803680981595, adjusted rand index: 0.7925288136922274, silhouette scores:0.3888967418228932\n",
      "Number of clusters: 29, Accuracy score: 0.9263803680981595, adjusted rand index: 0.7925288136922274, silhouette scores:0.3994056970501327\n",
      "Number of clusters: 30, Accuracy score: 0.9447852760736196, adjusted rand index: 0.8465312048983162, silhouette scores:0.4062666385990148\n",
      "Number of clusters: 31, Accuracy score: 0.9447852760736196, adjusted rand index: 0.8465312048983162, silhouette scores:0.4185507189995972\n",
      "Number of clusters: 32, Accuracy score: 0.9447852760736196, adjusted rand index: 0.8465312048983162, silhouette scores:0.4215776722769588\n",
      "Number of clusters: 33, Accuracy score: 0.9447852760736196, adjusted rand index: 0.8465312048983162, silhouette scores:0.431403144650249\n",
      "Number of clusters: 34, Accuracy score: 0.9447852760736196, adjusted rand index: 0.8465312048983162, silhouette scores:0.4409383583051509\n",
      "Number of clusters: 35, Accuracy score: 0.9447852760736196, adjusted rand index: 0.8465312048983162, silhouette scores:0.44907323832631935\n",
      "Number of clusters: 36, Accuracy score: 0.9447852760736196, adjusted rand index: 0.8465312048983162, silhouette scores:0.45545474098637556\n",
      "Number of clusters: 37, Accuracy score: 0.9447852760736196, adjusted rand index: 0.8465312048983162, silhouette scores:0.46602822365140106\n",
      "Number of clusters: 38, Accuracy score: 0.9447852760736196, adjusted rand index: 0.8465312048983162, silhouette scores:0.48036240583514583\n",
      "Number of clusters: 39, Accuracy score: 0.9447852760736196, adjusted rand index: 0.8465312048983162, silhouette scores:0.4939117951626225\n",
      "Number of clusters: 40, Accuracy score: 0.9447852760736196, adjusted rand index: 0.8465312048983162, silhouette scores:0.5057095139208321\n",
      "Number of clusters: 41, Accuracy score: 0.9631901840490797, adjusted rand index: 0.8947421658190203, silhouette scores:0.5134437815930328\n",
      "Number of clusters: 42, Accuracy score: 0.9631901840490797, adjusted rand index: 0.8947421658190203, silhouette scores:0.5273323298153889\n",
      "Number of clusters: 43, Accuracy score: 0.9631901840490797, adjusted rand index: 0.8947421658190203, silhouette scores:0.5390590910533077\n",
      "Number of clusters: 44, Accuracy score: 0.9631901840490797, adjusted rand index: 0.8947421658190203, silhouette scores:0.5557388804885606\n",
      "Number of clusters: 45, Accuracy score: 0.9631901840490797, adjusted rand index: 0.8947421658190203, silhouette scores:0.5642594896278949\n",
      "Number of clusters: 46, Accuracy score: 0.9631901840490797, adjusted rand index: 0.8947421658190203, silhouette scores:0.5700584210897661\n",
      "Number of clusters: 47, Accuracy score: 0.9631901840490797, adjusted rand index: 0.8947421658190203, silhouette scores:0.5816724467862827\n",
      "Number of clusters: 48, Accuracy score: 0.9631901840490797, adjusted rand index: 0.8947421658190203, silhouette scores:0.5961884668292823\n",
      "Number of clusters: 49, Accuracy score: 0.9815950920245399, adjusted rand index: 0.9470588791762682, silhouette scores:0.6011949645795193\n",
      "Number of clusters: 50, Accuracy score: 0.9815950920245399, adjusted rand index: 0.9470588791762682, silhouette scores:0.6112850453007267\n",
      "Number of clusters: 51, Accuracy score: 0.9815950920245399, adjusted rand index: 0.9470588791762682, silhouette scores:0.6289682175479001\n",
      "Number of clusters: 52, Accuracy score: 0.9815950920245399, adjusted rand index: 0.9470588791762682, silhouette scores:0.637897068429594\n",
      "Number of clusters: 53, Accuracy score: 0.9815950920245399, adjusted rand index: 0.9470588791762682, silhouette scores:0.6496672755583023\n",
      "Number of clusters: 54, Accuracy score: 0.9815950920245399, adjusted rand index: 0.9470588791762682, silhouette scores:0.6646878875666637\n",
      "Number of clusters: 55, Accuracy score: 0.9815950920245399, adjusted rand index: 0.9470588791762682, silhouette scores:0.6776481752377868\n",
      "Number of clusters: 56, Accuracy score: 0.9938650306748467, adjusted rand index: 0.9820102987492174, silhouette scores:0.6900432138525002\n",
      "Number of clusters: 57, Accuracy score: 0.9938650306748467, adjusted rand index: 0.9820102987492174, silhouette scores:0.6996604704311373\n",
      "Number of clusters: 58, Accuracy score: 0.9938650306748467, adjusted rand index: 0.9820102987492174, silhouette scores:0.7098844221086593\n",
      "Number of clusters: 59, Accuracy score: 0.9938650306748467, adjusted rand index: 0.9820102987492174, silhouette scores:0.7232693715224657\n",
      "Number of clusters: 60, Accuracy score: 0.9938650306748467, adjusted rand index: 0.9820102987492174, silhouette scores:0.7289891835436566\n",
      "Number of clusters: 61, Accuracy score: 0.9938650306748467, adjusted rand index: 0.9820102987492174, silhouette scores:0.7350854888083923\n",
      "Number of clusters: 62, Accuracy score: 0.9938650306748467, adjusted rand index: 0.9820102987492174, silhouette scores:0.7407394219728788\n",
      "Number of clusters: 63, Accuracy score: 0.9938650306748467, adjusted rand index: 0.9820102987492174, silhouette scores:0.7464158554561122\n",
      "Number of clusters: 64, Accuracy score: 0.9938650306748467, adjusted rand index: 0.9820102987492174, silhouette scores:0.7521987332257273\n",
      "Number of clusters: 65, Accuracy score: 0.9938650306748467, adjusted rand index: 0.9820102987492174, silhouette scores:0.7548255890720564\n",
      "Number of clusters: 66, Accuracy score: 1.0, adjusted rand index: 1.0, silhouette scores:0.760193662380651\n",
      "Number of clusters: 67, Accuracy score: 1.0, adjusted rand index: 1.0, silhouette scores:0.7599218561460344\n",
      "Number of clusters: 68, Accuracy score: 1.0, adjusted rand index: 1.0, silhouette scores:0.7559627554686514\n",
      "Number of clusters: 69, Accuracy score: 1.0, adjusted rand index: 1.0, silhouette scores:0.7576731573265142\n",
      "Number of clusters: 70, Accuracy score: 1.0, adjusted rand index: 1.0, silhouette scores:0.7516137897850381\n",
      "Number of clusters: 71, Accuracy score: 1.0, adjusted rand index: 1.0, silhouette scores:0.7503575623437829\n",
      "Number of clusters: 72, Accuracy score: 1.0, adjusted rand index: 1.0, silhouette scores:0.7484797216689011\n",
      "Number of clusters: 73, Accuracy score: 1.0, adjusted rand index: 1.0, silhouette scores:0.746630269022316\n",
      "Number of clusters: 74, Accuracy score: 1.0, adjusted rand index: 1.0, silhouette scores:0.7479388607533636\n",
      "Number of clusters: 75, Accuracy score: 1.0, adjusted rand index: 1.0, silhouette scores:0.746712478881145\n",
      "Number of clusters: 76, Accuracy score: 1.0, adjusted rand index: 1.0, silhouette scores:0.744314062471278\n",
      "Number of clusters: 77, Accuracy score: 1.0, adjusted rand index: 1.0, silhouette scores:0.7381682909185386\n",
      "Number of clusters: 78, Accuracy score: 1.0, adjusted rand index: 1.0, silhouette scores:0.7322912579295517\n",
      "Number of clusters: 79, Accuracy score: 1.0, adjusted rand index: 1.0, silhouette scores:0.7258045659357587\n",
      "Number of clusters: 80, Accuracy score: 1.0, adjusted rand index: 1.0, silhouette scores:0.7197911800467001\n",
      "Number of clusters: 81, Accuracy score: 1.0, adjusted rand index: 1.0, silhouette scores:0.7185702251419399\n"
     ]
    }
   ],
   "source": [
    "accuracy_scores = []\n",
    "Rand_index = []\n",
    "silhouette_scores = []\n",
    "# I want to run through a number of clusters to get the rand score and accuracy for hard clustering\n",
    "for i in range(80):\n",
    "    m = i + 2\n",
    "    h_cluster = AgglomerativeClustering(n_clusters = m)\n",
    "    h_label = h_cluster.fit_predict(X_train)\n",
    "\n",
    "    \n",
    "    # Assigns the most probable label to the data point\n",
    "    h_label = h_label.astype(int)\n",
    "    ref_lab = retrieve(h_label, y_train)\n",
    "    number_labels = np.empty(len(h_label))\n",
    "    for j in range(len(h_label)):\n",
    "        if h_label[j] in ref_lab:\n",
    "            number_labels[j] = ref_lab[h_label[j]]\n",
    "        else:\n",
    "            number_labels[j] = -1 # Default label for empty clusters\n",
    "\n",
    "    # Calculates the evaluation metrics \n",
    "    score = accuracy_score(number_labels, y_train)\n",
    "    accuracy_scores.append(score)\n",
    "    rand = adjusted_rand_score(number_labels, y_train)\n",
    "    Rand_index.append(rand)\n",
    "    silhouette = silhouette_score(X_train, h_label)\n",
    "    silhouette_scores.append(silhouette)\n",
    "    # Prints accuracy scores and adjusted rand index using zip allows me to iterate over both\n",
    "for k, (score, rand,silhouette) in enumerate(zip(accuracy_scores,Rand_index, silhouette_scores), start=2):\n",
    "    print(f\"Number of clusters: {k}, Accuracy score: {score}, adjusted rand index: {rand}, silhouette scores:{silhouette}\")\n"
   ]
  },
  {
   "cell_type": "markdown",
   "metadata": {},
   "source": [
    "The biggest issue with hierachical clustering is how easily overfitting can occur as each data point starts as its own cluster it is easy to get perfect scores for accuracy score and adjusted rand index even when compared to K-means. This is why silhouette score is so important here with the highest being at the number of clusters being 65 but the accuracy score and adjusted rand index are both at 0.99 however this at least shows that the clusters here are distinct with meaningful partitions"
   ]
  },
  {
   "cell_type": "code",
   "execution_count": 293,
   "metadata": {},
   "outputs": [
    {
     "name": "stdout",
     "output_type": "stream",
     "text": [
      "0.9024390243902439 0.7575513221113463 0.43097074554196474\n"
     ]
    }
   ],
   "source": [
    "h_cluster = AgglomerativeClustering(n_clusters = 16)\n",
    "h_label = h_cluster.fit_predict(X_test)\n",
    "\n",
    "    \n",
    "# Assigns the most probable label to the data point\n",
    "h_label = h_label.astype(int)\n",
    "ref_lab = retrieve(h_label, y_test)\n",
    "number_labels = np.empty(len(h_label))\n",
    "for j in range(len(h_label)):\n",
    "    if h_label[j] in ref_lab:\n",
    "        number_labels[j] = ref_lab[h_label[j]]\n",
    "    else:\n",
    "        number_labels[j] = -1 # Default label for empty clusters\n",
    "\n",
    "# Calculates the evaluation metrics \n",
    "score = accuracy_score(number_labels, y_test)\n",
    "rand = adjusted_rand_score(number_labels, y_test)\n",
    "silhouette = silhouette_score(X_test, h_label)\n",
    "print(score, rand,silhouette)"
   ]
  },
  {
   "cell_type": "markdown",
   "metadata": {},
   "source": [
    "When applying the algorithim to unseen data and using proportional clustering due to the size of the test data. We get significant differences however the accuracy is still high and the adjusted rand index is still high so we can say it generalizes well to new data. Of course until its used in a full real world example with a completely new dataset we cannot say for sure for any machine learning algorithm."
   ]
  },
  {
   "cell_type": "markdown",
   "metadata": {},
   "source": [
    "Soft clustering - Fuzzy C Means"
   ]
  },
  {
   "cell_type": "code",
   "execution_count": 155,
   "metadata": {},
   "outputs": [
    {
     "name": "stdout",
     "output_type": "stream",
     "text": [
      "Number of clusters: 1, Adjusted Rand index: 0.0\n",
      "Number of clusters: 2, Adjusted Rand index: 0.009757032698619406\n",
      "Number of clusters: 3, Adjusted Rand index: 0.00848461074668933\n",
      "Number of clusters: 4, Adjusted Rand index: 0.17618049739584268\n",
      "Number of clusters: 5, Adjusted Rand index: 0.17442561042758428\n",
      "Number of clusters: 6, Adjusted Rand index: 0.24263519033922962\n",
      "Number of clusters: 7, Adjusted Rand index: 0.20454293829821507\n",
      "Number of clusters: 8, Adjusted Rand index: 0.22036014641241122\n",
      "Number of clusters: 9, Adjusted Rand index: 0.13684267728220614\n",
      "Number of clusters: 10, Adjusted Rand index: 0.336740753858737\n",
      "Number of clusters: 11, Adjusted Rand index: 0.2735939013801868\n",
      "Number of clusters: 12, Adjusted Rand index: 0.24584570938331538\n",
      "Number of clusters: 13, Adjusted Rand index: 0.21070904631652412\n",
      "Number of clusters: 14, Adjusted Rand index: 0.18711970984017634\n",
      "Number of clusters: 15, Adjusted Rand index: 0.25188742922247326\n",
      "Number of clusters: 16, Adjusted Rand index: 0.25108112565114904\n",
      "Number of clusters: 17, Adjusted Rand index: 0.22692682955965368\n",
      "Number of clusters: 18, Adjusted Rand index: 0.1930566258005444\n",
      "Number of clusters: 19, Adjusted Rand index: 0.25351638203167787\n",
      "Number of clusters: 20, Adjusted Rand index: 0.3033442669186984\n"
     ]
    }
   ],
   "source": [
    "# https://pythonhosted.org/scikit-fuzzy/auto_examples/plot_cmeans.html\n",
    "import skfuzzy as fuzz \n",
    "#Here the data points arent hard assigned to the clusters but rather given membership scores \n",
    "# no accuracy score here as data points arent assigned to a single cluster rather the rand score is used as that evaluates simirality instead of whether it exactly matches the correct label\n",
    "rand_index_scores = []\n",
    "\n",
    "for i in range(20):\n",
    "    k = i + 1\n",
    "    cntr, u,_,_,_,_,_ = fuzz.cluster.cmeans(a.T, k, 20, error=0.005, maxiter=1000, seed=20)\n",
    "\n",
    "    # Obtain the fuzzy membership matrix\n",
    "    membership_matrix = u\n",
    "\n",
    "    # Obtain crisp cluster assignments by selecting the cluster with the highest membership value for each data point\n",
    "    cluster_labels = np.argmax(membership_matrix, axis=0)\n",
    "\n",
    "    # Evaluate the segmentation results using adjusted Rand index against the ground truth labels\n",
    "    rand_index = adjusted_rand_score(arrayY, cluster_labels)\n",
    "    rand_index_scores.append(rand_index)\n",
    "\n",
    "# Prints adjusted Rand index scores\n",
    "for k, rand_index in enumerate(rand_index_scores, start=1):\n",
    "    print(f\"Number of clusters: {k}, Adjusted Rand index: {rand_index}\")\n",
    "    \n",
    "# however the adjusted rand index is low here which means that there isnt much simirality to the real labels \n",
    "# i have changed the hyperparameters and it did not help\n",
    "# Low rand index likely due to the lack of hard assignment"
   ]
  },
  {
   "cell_type": "markdown",
   "metadata": {},
   "source": [
    "Pros K-Means - works very well for spherical clusters, simple,easy to intrepret as labels are assigned to each data point, works well on the linear dataset\n",
    "Cons K-Means - Sensitive to the initial placement of cluster centroids, Sensitive to outliers, assumes spherical clusters\n",
    "Pros agglomerative hierarchical clustering - The hierarchical representation can provide deeper insights on this dataset, Capture complex cluster shapes that are sometimes present in images\n",
    "Cons agglomerative hierarchical clustering - Extremely sensitive to noise which is bad as i have used a noisy dataset, also without certain methods it would have been hard to determine the optimal number of clusters to properley group the images \n",
    "Pros Fuzzy c means clustering - One data point can belong to multiple different clusters so it can deal with overlapping clusters and non convex cluster shapes which would be useful if the images in our dataset were more complex\n",
    "Cons Fuzzy c means clustering - It is also sensitive to the initialization of the centroids and it is very hard to intrepret the membership degrees of data points in respect to thier cluster. Also the habit of converging to its local minima. Which i think has happened here so i cannot get very good results regardless of iteration aand changing the fuziness parameters which i think is due to how linearlly seperable my data is especially with preprocessing so K-means and hierachical clustering perform better. (This is due to the fuzziness inherently present in the cluster boundaries so FCM can struggle to produce well-seperated clusters like the other 2 hard clustering algorithms.\n",
    "The 2 hard clustering algorithms perform simiraily to the bayesian classifier as the data is linerally seperable and they both work well in that case. However, as we have the real labels naive bayes was much easier to implement and i didnt have to take into context the different ways images could be arranged like when i was dealing with hard clustering algorithms."
   ]
  },
  {
   "cell_type": "markdown",
   "metadata": {},
   "source": [
    "3. Supervised Learning: Generalisation & Overfitting; Decision trees."
   ]
  },
  {
   "cell_type": "code",
   "execution_count": 161,
   "metadata": {},
   "outputs": [
    {
     "name": "stdout",
     "output_type": "stream",
     "text": [
      "{'fit_time': array([0.00207996, 0.00202203, 0.00122809, 0.001055  , 0.00105405,\n",
      "       0.00096798, 0.00105691, 0.0010879 , 0.00105095, 0.00105906]), 'score_time': array([0.00752902, 0.00522804, 0.00252485, 0.00233102, 0.002316  ,\n",
      "       0.00227785, 0.00229311, 0.00234389, 0.00231791, 0.00243831]), 'test_accuracy': array([0.9047619 , 0.95238095, 0.9047619 , 0.95238095, 0.9       ,\n",
      "       0.9       , 0.95      , 0.95      , 0.95      , 0.95      ]), 'test_precision': array([0.92592593, 0.96296296, 0.91666667, 0.95238095, 0.92592593,\n",
      "       0.8968254 , 0.95833333, 0.95238095, 0.95238095, 0.95238095]), 'test_recall': array([0.91666667, 0.94444444, 0.9047619 , 0.95238095, 0.88888889,\n",
      "       0.8968254 , 0.95238095, 0.95238095, 0.95238095, 0.95238095]), 'test_f1_score': array([0.91071429, 0.95008913, 0.8968254 , 0.94871795, 0.89166667,\n",
      "       0.8968254 , 0.95213675, 0.94871795, 0.94871795, 0.94871795])}\n"
     ]
    }
   ],
   "source": [
    "# https://stephenallwright.com/cross_val_score-sklearn/\n",
    "# makes sure that each fold maintains the same class distribution so the other scores can work\n",
    "\n",
    "\n",
    "\n",
    "\n",
    "from sklearn.model_selection import cross_val_score, cross_validate, StratifiedKFold\n",
    "from sklearn.tree import DecisionTreeClassifier, plot_tree\n",
    "from sklearn.metrics import make_scorer, accuracy_score, precision_score,recall_score, f1_score\n",
    "# Initializes the model \n",
    "model = DecisionTreeClassifier(min_samples_split = 20)\n",
    "strat_kfold = StratifiedKFold(n_splits=10, shuffle=True, random_state=42)\n",
    "# Provides the chosen evaluation metric\n",
    "# Macro is used to average the score per class for each split\n",
    "scoring = {'accuracy': make_scorer(accuracy_score), 'precision' : make_scorer(precision_score, average='macro'),'recall' : make_scorer(recall_score, average='macro'), 'f1_score' : make_scorer(f1_score, average='macro')}\n",
    "scores = cross_validate(model, x, arrayY, cv=strat_kfold, scoring=scoring)\n",
    "print(scores)\n",
    "\n",
    "\n",
    "\n",
    "\n",
    "\n",
    "#Gives very high accuracy scores overall seeing that it is being trained well\n",
    "# the higher the depth of the tree the higher the accuracy\n",
    "# Gini had the highest overall accuracy then entropy then log loss\n",
    "# log loss is used for probablistic classification so it does not provide discrete class assignments which is neccesary for what we are trying to do \n",
    "# Gini helps to identify distinct representations making it the best choice for seperating distinct images\n",
    "# Entropy makes sense if there was a less distinct image dataset but as my dataset is pretty distinct(with pixels being 1 or 0) GINI works better\n",
    "# The higher the confidence threshold the less accuracy there is however it also conteracts against overfitting however i dont believe that is a problem due to the test i have done on this classifier"
   ]
  },
  {
   "cell_type": "code",
   "execution_count": 74,
   "metadata": {},
   "outputs": [],
   "source": [
    "X_train1, X_test1, y_train1, y_test1 = train_test_split(x,arrayY,test_size=0.5,random_state=42)"
   ]
  },
  {
   "cell_type": "code",
   "execution_count": 60,
   "metadata": {},
   "outputs": [
    {
     "name": "stdout",
     "output_type": "stream",
     "text": [
      "0.9024390243902439\n"
     ]
    }
   ],
   "source": [
    "from sklearn import metrics\n",
    "model = model.fit(X_train, y_train)\n",
    "y_DecsionT = model.predict(X_test)\n",
    "print(metrics.accuracy_score(y_test, y_DecsionT))\n",
    "# When introduced to unseen data it is still able to predict the results very well meaning it generalizes well and is useful"
   ]
  },
  {
   "cell_type": "code",
   "execution_count": 61,
   "metadata": {},
   "outputs": [
    {
     "name": "stdout",
     "output_type": "stream",
     "text": [
      "0.7941176470588235\n"
     ]
    }
   ],
   "source": [
    "from sklearn import metrics\n",
    "model = model.fit(X_train1, y_train1)\n",
    "y_DecsionT = model.predict(X_test1)\n",
    "print(metrics.accuracy_score(y_test1, y_DecsionT))\n",
    "# Accuracy reduced due to over-fitting caused by having less training data for the model to learn from"
   ]
  },
  {
   "cell_type": "markdown",
   "metadata": {},
   "source": [
    "You do see the effects of overfitting when you change the training and testing data sizes which is most likely due to the data not training well enough to work on unseen data which accounts for the significant difference difference in accuracy.\n",
    "For decision trees increasing the depth and complexity of the tree improved accuracy but it also causes overfitting as the decision tree gets too complex. Pruning also reduces accuracy but the overall accuracy is still high and it performs well on unseen data so to a certain extent it helps the classifier to perform better however going to far means the classifier becomes very inaccurate.\n",
    "The same with minimum samples per leaf if there are too many here the the accuracy is reduced however thats likely due to the preprocessing with the original noisy dataset having a higher minimum samples per leaf would likely allow this classifier to deal with the noise and improve its accuracy."
   ]
  },
  {
   "cell_type": "code",
   "execution_count": 93,
   "metadata": {},
   "outputs": [
    {
     "name": "stdout",
     "output_type": "stream",
     "text": [
      "{'fit_time': array([0.09374785, 0.06935906, 0.06883097, 0.06838202, 0.06880474,\n",
      "       0.06820488, 0.06855798, 0.06857491, 0.06875396, 0.06809711]), 'score_time': array([0.00905704, 0.38797212, 0.00486398, 0.00480294, 0.0048089 ,\n",
      "       0.00479317, 0.00477004, 0.00478196, 0.00478578, 0.00486875]), 'test_accuracy': array([1., 1., 1., 1., 1., 1., 1., 1., 1., 1.]), 'test_precision': array([1., 1., 1., 1., 1., 1., 1., 1., 1., 1.]), 'test_recall': array([1., 1., 1., 1., 1., 1., 1., 1., 1., 1.]), 'test_f1_score': array([1., 1., 1., 1., 1., 1., 1., 1., 1., 1.])}\n"
     ]
    }
   ],
   "source": [
    "# Performing the same analysis using the random trees classifier\n",
    "from sklearn.ensemble import RandomForestClassifier\n",
    "model1 = RandomForestClassifier()\n",
    "# Chooses the evaluation metric along with the time taken in each iteration to reach it \n",
    "scoring1 = {'accuracy': make_scorer(accuracy_score), 'precision' : make_scorer(precision_score, average='macro'),'recall' : make_scorer(recall_score, average='macro'), 'f1_score' : make_scorer(f1_score, average='macro')} \n",
    "scores1 = cross_validate(model1, x, arrayY, cv=10, scoring=scoring1)\n",
    "print(scores1)\n",
    "# Using random forest default definitly causes overfitting across every k fold. witha perfect score for each cross fold\n",
    "# Since this is the case the result is likely due to hyperparameters \n",
    "# Reducing it to 2 trees makes it have more realistic results "
   ]
  },
  {
   "cell_type": "markdown",
   "metadata": {},
   "source": []
  },
  {
   "cell_type": "code",
   "execution_count": 94,
   "metadata": {},
   "outputs": [
    {
     "name": "stdout",
     "output_type": "stream",
     "text": [
      "1.0\n"
     ]
    }
   ],
   "source": [
    "from sklearn import metrics\n",
    "model1 = model1.fit(X_train, y_train)\n",
    "y_DecsionT1 = model1.predict(X_train)\n",
    "print(metrics.accuracy_score(y_train, y_DecsionT1))"
   ]
  },
  {
   "cell_type": "code",
   "execution_count": 95,
   "metadata": {},
   "outputs": [
    {
     "name": "stdout",
     "output_type": "stream",
     "text": [
      "1.0\n"
     ]
    }
   ],
   "source": [
    "from sklearn import metrics\n",
    "model1 = model1.fit(X_train1, y_train1)\n",
    "y_DecsionT1 = model1.predict(X_test1)\n",
    "print(metrics.accuracy_score(y_test1, y_DecsionT1))"
   ]
  },
  {
   "cell_type": "markdown",
   "metadata": {},
   "source": [
    "Here with the random forest classifier we see large problems with overfitting and the way we were able to overcome this was by reducing the number of different decision trees initialised to 2. This maybe likely due to how large the dataset is as the default is 100 decision trees initialised. It performs the same as the decision tree classifier for the rest of the hyperparameters just that when reducing or increasing any of the hyperparameters the effect is more pronuced"
   ]
  },
  {
   "cell_type": "markdown",
   "metadata": {},
   "source": [
    "4.Neural Networks and Conventional Neural Networks"
   ]
  },
  {
   "cell_type": "code",
   "execution_count": 301,
   "metadata": {},
   "outputs": [
    {
     "name": "stdout",
     "output_type": "stream",
     "text": [
      "1.0\n"
     ]
    }
   ],
   "source": [
    "# Linear classifier\n",
    "# Using softmax in order to deal with this multi classification problem\n",
    "from sklearn.linear_model import LogisticRegression\n",
    "softmax_reg = LogisticRegression(multi_class=\"multinomial\",solver=\"lbfgs\", C=1, random_state=42)\n",
    "softmax_reg.fit(X_train, y_train)\n",
    "yq = softmax_reg.predict(X_test)\n",
    "print(metrics.accuracy_score(y_test, yq))\n"
   ]
  },
  {
   "cell_type": "code",
   "execution_count": 302,
   "metadata": {},
   "outputs": [
    {
     "name": "stdout",
     "output_type": "stream",
     "text": [
      "(41, 13)\n",
      "1.0\n"
     ]
    }
   ],
   "source": [
    "yq = softmax_reg.predict(X_test)\n",
    "print(X_test.shape)\n",
    "print(metrics.accuracy_score(y_test, yq))"
   ]
  },
  {
   "cell_type": "code",
   "execution_count": 129,
   "metadata": {},
   "outputs": [
    {
     "name": "stdout",
     "output_type": "stream",
     "text": [
      "{'fit_time': array([0.00464606, 0.0030849 , 0.00316477, 0.0027101 , 0.00304222,\n",
      "       0.00238419, 0.00287604, 0.00251913, 0.00306392, 0.00262594]), 'score_time': array([0.00489187, 0.00283623, 0.00278497, 0.00271893, 0.00236011,\n",
      "       0.00289202, 0.00256491, 0.00283813, 0.00259805, 0.00238514]), 'test_accuracy': array([1.  , 1.  , 1.  , 1.  , 0.95, 0.95, 1.  , 0.9 , 1.  , 1.  ]), 'test_precision': array([1.        , 1.        , 1.        , 1.        , 0.95833333,\n",
      "       0.95833333, 1.        , 0.8968254 , 1.        , 1.        ]), 'test_recall': array([1.        , 1.        , 1.        , 1.        , 0.94444444,\n",
      "       0.94444444, 1.        , 0.8968254 , 1.        , 1.        ]), 'test_f1_score': array([1.        , 1.        , 1.        , 1.        , 0.94747475,\n",
      "       0.94747475, 1.        , 0.8968254 , 1.        , 1.        ])}\n"
     ]
    }
   ],
   "source": [
    "scores1 = cross_validate(softmax_reg, x, arrayY, cv=10, scoring=scoring)\n",
    "print(scores1)\n",
    "# The high accuracy scores could be called overfitting but throughout the processing of this data it has became clear that it is extremely linearly seperable "
   ]
  },
  {
   "cell_type": "code",
   "execution_count": 125,
   "metadata": {},
   "outputs": [
    {
     "name": "stdout",
     "output_type": "stream",
     "text": [
      "0.926829268292683\n"
     ]
    }
   ],
   "source": [
    "# Multi layer perceptron\n",
    "from sklearn.neural_network import MLPClassifier\n",
    "MLP = MLPClassifier(hidden_layer_sizes=(30,30), max_iter=100, activation='relu', solver='adam', random_state=1)\n",
    "MLP.fit(X_train, y_train)\n",
    "y_pred = MLP.predict(X_test)\n",
    "print(metrics.accuracy_score(y_test, y_pred))\n",
    "# The accuracy increas along with the size and number of the hidden network layer\n",
    "# ReLU works well as it is a non linear function and dosent saturate like sigmoid/tanh which can be insensitive to changes\n",
    "# No change with tanh significant decrease with sigmoid this could do with the fact that sigmoid is that it outputs less feature\n",
    "# Sigmoid function hits saturation(vanishing gradient) hence the max accuracy hovers around 57%"
   ]
  },
  {
   "cell_type": "code",
   "execution_count": 196,
   "metadata": {},
   "outputs": [
    {
     "ename": "ValueError",
     "evalue": "One of the dimensions in the output is <= 0 due to downsampling in conv2d_21. Consider increasing the input size. Received input shape [None, 49, 1, 64] which would produce output shape with a zero or negative value in a dimension.",
     "output_type": "error",
     "traceback": [
      "\u001b[0;31m---------------------------------------------------------------------------\u001b[0m",
      "\u001b[0;31mValueError\u001b[0m                                Traceback (most recent call last)",
      "Cell \u001b[0;32mIn[196], line 11\u001b[0m\n\u001b[1;32m      9\u001b[0m model\u001b[38;5;241m.\u001b[39madd(layers\u001b[38;5;241m.\u001b[39mConv2D(\u001b[38;5;241m64\u001b[39m, (\u001b[38;5;241m3\u001b[39m, \u001b[38;5;241m3\u001b[39m), activation\u001b[38;5;241m=\u001b[39m\u001b[38;5;124m'\u001b[39m\u001b[38;5;124mrelu\u001b[39m\u001b[38;5;124m'\u001b[39m))\n\u001b[1;32m     10\u001b[0m model\u001b[38;5;241m.\u001b[39madd(layers\u001b[38;5;241m.\u001b[39mMaxPooling2D((\u001b[38;5;241m2\u001b[39m, \u001b[38;5;241m2\u001b[39m)))\n\u001b[0;32m---> 11\u001b[0m \u001b[43mmodel\u001b[49m\u001b[38;5;241;43m.\u001b[39;49m\u001b[43madd\u001b[49m\u001b[43m(\u001b[49m\u001b[43mlayers\u001b[49m\u001b[38;5;241;43m.\u001b[39;49m\u001b[43mConv2D\u001b[49m\u001b[43m(\u001b[49m\u001b[38;5;241;43m128\u001b[39;49m\u001b[43m,\u001b[49m\u001b[43m \u001b[49m\u001b[43m(\u001b[49m\u001b[38;5;241;43m3\u001b[39;49m\u001b[43m,\u001b[49m\u001b[43m \u001b[49m\u001b[38;5;241;43m3\u001b[39;49m\u001b[43m)\u001b[49m\u001b[43m,\u001b[49m\u001b[43m \u001b[49m\u001b[43mactivation\u001b[49m\u001b[38;5;241;43m=\u001b[39;49m\u001b[38;5;124;43m'\u001b[39;49m\u001b[38;5;124;43mrelu\u001b[39;49m\u001b[38;5;124;43m'\u001b[39;49m\u001b[43m)\u001b[49m\u001b[43m)\u001b[49m\n\u001b[1;32m     12\u001b[0m model\u001b[38;5;241m.\u001b[39msummary()\n",
      "File \u001b[0;32m/opt/homebrew/lib/python3.11/site-packages/tensorflow/python/trackable/base.py:204\u001b[0m, in \u001b[0;36mno_automatic_dependency_tracking.<locals>._method_wrapper\u001b[0;34m(self, *args, **kwargs)\u001b[0m\n\u001b[1;32m    202\u001b[0m \u001b[38;5;28mself\u001b[39m\u001b[38;5;241m.\u001b[39m_self_setattr_tracking \u001b[38;5;241m=\u001b[39m \u001b[38;5;28;01mFalse\u001b[39;00m  \u001b[38;5;66;03m# pylint: disable=protected-access\u001b[39;00m\n\u001b[1;32m    203\u001b[0m \u001b[38;5;28;01mtry\u001b[39;00m:\n\u001b[0;32m--> 204\u001b[0m   result \u001b[38;5;241m=\u001b[39m \u001b[43mmethod\u001b[49m\u001b[43m(\u001b[49m\u001b[38;5;28;43mself\u001b[39;49m\u001b[43m,\u001b[49m\u001b[43m \u001b[49m\u001b[38;5;241;43m*\u001b[39;49m\u001b[43margs\u001b[49m\u001b[43m,\u001b[49m\u001b[43m \u001b[49m\u001b[38;5;241;43m*\u001b[39;49m\u001b[38;5;241;43m*\u001b[39;49m\u001b[43mkwargs\u001b[49m\u001b[43m)\u001b[49m\n\u001b[1;32m    205\u001b[0m \u001b[38;5;28;01mfinally\u001b[39;00m:\n\u001b[1;32m    206\u001b[0m   \u001b[38;5;28mself\u001b[39m\u001b[38;5;241m.\u001b[39m_self_setattr_tracking \u001b[38;5;241m=\u001b[39m previous_value  \u001b[38;5;66;03m# pylint: disable=protected-access\u001b[39;00m\n",
      "File \u001b[0;32m/opt/homebrew/lib/python3.11/site-packages/keras/src/utils/traceback_utils.py:70\u001b[0m, in \u001b[0;36mfilter_traceback.<locals>.error_handler\u001b[0;34m(*args, **kwargs)\u001b[0m\n\u001b[1;32m     67\u001b[0m     filtered_tb \u001b[38;5;241m=\u001b[39m _process_traceback_frames(e\u001b[38;5;241m.\u001b[39m__traceback__)\n\u001b[1;32m     68\u001b[0m     \u001b[38;5;66;03m# To get the full stack trace, call:\u001b[39;00m\n\u001b[1;32m     69\u001b[0m     \u001b[38;5;66;03m# `tf.debugging.disable_traceback_filtering()`\u001b[39;00m\n\u001b[0;32m---> 70\u001b[0m     \u001b[38;5;28;01mraise\u001b[39;00m e\u001b[38;5;241m.\u001b[39mwith_traceback(filtered_tb) \u001b[38;5;28;01mfrom\u001b[39;00m \u001b[38;5;28;01mNone\u001b[39;00m\n\u001b[1;32m     71\u001b[0m \u001b[38;5;28;01mfinally\u001b[39;00m:\n\u001b[1;32m     72\u001b[0m     \u001b[38;5;28;01mdel\u001b[39;00m filtered_tb\n",
      "File \u001b[0;32m/opt/homebrew/lib/python3.11/site-packages/keras/src/layers/convolutional/base_conv.py:354\u001b[0m, in \u001b[0;36mConv.compute_output_shape\u001b[0;34m(self, input_shape)\u001b[0m\n\u001b[1;32m    347\u001b[0m         \u001b[38;5;28;01mreturn\u001b[39;00m tf\u001b[38;5;241m.\u001b[39mTensorShape(\n\u001b[1;32m    348\u001b[0m             input_shape[:batch_rank]\n\u001b[1;32m    349\u001b[0m             \u001b[38;5;241m+\u001b[39m [\u001b[38;5;28mself\u001b[39m\u001b[38;5;241m.\u001b[39mfilters]\n\u001b[1;32m    350\u001b[0m             \u001b[38;5;241m+\u001b[39m \u001b[38;5;28mself\u001b[39m\u001b[38;5;241m.\u001b[39m_spatial_output_shape(input_shape[batch_rank \u001b[38;5;241m+\u001b[39m \u001b[38;5;241m1\u001b[39m :])\n\u001b[1;32m    351\u001b[0m         )\n\u001b[1;32m    353\u001b[0m \u001b[38;5;28;01mexcept\u001b[39;00m \u001b[38;5;167;01mValueError\u001b[39;00m:\n\u001b[0;32m--> 354\u001b[0m     \u001b[38;5;28;01mraise\u001b[39;00m \u001b[38;5;167;01mValueError\u001b[39;00m(\n\u001b[1;32m    355\u001b[0m         \u001b[38;5;124m\"\u001b[39m\u001b[38;5;124mOne of the dimensions in the output is <= 0 \u001b[39m\u001b[38;5;124m\"\u001b[39m\n\u001b[1;32m    356\u001b[0m         \u001b[38;5;124mf\u001b[39m\u001b[38;5;124m\"\u001b[39m\u001b[38;5;124mdue to downsampling in \u001b[39m\u001b[38;5;132;01m{\u001b[39;00m\u001b[38;5;28mself\u001b[39m\u001b[38;5;241m.\u001b[39mname\u001b[38;5;132;01m}\u001b[39;00m\u001b[38;5;124m. Consider \u001b[39m\u001b[38;5;124m\"\u001b[39m\n\u001b[1;32m    357\u001b[0m         \u001b[38;5;124m\"\u001b[39m\u001b[38;5;124mincreasing the input size. \u001b[39m\u001b[38;5;124m\"\u001b[39m\n\u001b[1;32m    358\u001b[0m         \u001b[38;5;124mf\u001b[39m\u001b[38;5;124m\"\u001b[39m\u001b[38;5;124mReceived input shape \u001b[39m\u001b[38;5;132;01m{\u001b[39;00minput_shape\u001b[38;5;132;01m}\u001b[39;00m\u001b[38;5;124m which would produce \u001b[39m\u001b[38;5;124m\"\u001b[39m\n\u001b[1;32m    359\u001b[0m         \u001b[38;5;124m\"\u001b[39m\u001b[38;5;124moutput shape with a zero or negative value in a \u001b[39m\u001b[38;5;124m\"\u001b[39m\n\u001b[1;32m    360\u001b[0m         \u001b[38;5;124m\"\u001b[39m\u001b[38;5;124mdimension.\u001b[39m\u001b[38;5;124m\"\u001b[39m\n\u001b[1;32m    361\u001b[0m     )\n",
      "\u001b[0;31mValueError\u001b[0m: One of the dimensions in the output is <= 0 due to downsampling in conv2d_21. Consider increasing the input size. Received input shape [None, 49, 1, 64] which would produce output shape with a zero or negative value in a dimension."
     ]
    }
   ],
   "source": [
    "# Convolutional neural network\n",
    "import tensorflow as tf\n",
    "from tensorflow.keras import layers, models\n",
    "import matplotlib.pyplot as plt\n",
    "\n",
    "model = models.Sequential()\n",
    "model.add(layers.Conv2D(32,(3,3), activation='relu', input_shape=(204,13,1)))\n",
    "model.add(layers.MaxPooling2D((2, 2)))\n",
    "model.add(layers.Conv2D(64, (3, 3), activation='relu'))\n",
    "model.add(layers.MaxPooling2D((2, 2)))\n",
    "model.add(layers.Conv2D(128, (3, 3), activation='relu'))\n",
    "model.summary()\n"
   ]
  },
  {
   "cell_type": "code",
   "execution_count": 192,
   "metadata": {},
   "outputs": [
    {
     "name": "stdout",
     "output_type": "stream",
     "text": [
      "Model: \"sequential_5\"\n",
      "_________________________________________________________________\n",
      " Layer (type)                Output Shape              Param #   \n",
      "=================================================================\n",
      " conv2d_7 (Conv2D)           (None, 202, 11, 32)       320       \n",
      "                                                                 \n",
      " max_pooling2d_2 (MaxPoolin  (None, 101, 5, 32)        0         \n",
      " g2D)                                                            \n",
      "                                                                 \n",
      " conv2d_8 (Conv2D)           (None, 99, 3, 64)         18496     \n",
      "                                                                 \n",
      " max_pooling2d_3 (MaxPoolin  (None, 49, 1, 64)         0         \n",
      " g2D)                                                            \n",
      "                                                                 \n",
      " flatten_2 (Flatten)         (None, 3136)              0         \n",
      "                                                                 \n",
      " dense_4 (Dense)             (None, 64)                200768    \n",
      "                                                                 \n",
      " dense_5 (Dense)             (None, 3)                 195       \n",
      "                                                                 \n",
      " flatten_3 (Flatten)         (None, 3)                 0         \n",
      "                                                                 \n",
      " dense_6 (Dense)             (None, 64)                256       \n",
      "                                                                 \n",
      " dense_7 (Dense)             (None, 3)                 195       \n",
      "                                                                 \n",
      "=================================================================\n",
      "Total params: 220230 (860.27 KB)\n",
      "Trainable params: 220230 (860.27 KB)\n",
      "Non-trainable params: 0 (0.00 Byte)\n",
      "_________________________________________________________________\n"
     ]
    }
   ],
   "source": [
    "model.add(layers.Flatten())\n",
    "model.add(layers.Dense(64, activation='relu'))\n",
    "model.add(layers.Dense(3))\n",
    "model.summary()"
   ]
  },
  {
   "cell_type": "code",
   "execution_count": 185,
   "metadata": {},
   "outputs": [
    {
     "name": "stdout",
     "output_type": "stream",
     "text": [
      "Epoch 1/10\n"
     ]
    },
    {
     "ename": "ValueError",
     "evalue": "in user code:\n\n    File \"/opt/homebrew/lib/python3.11/site-packages/keras/src/engine/training.py\", line 1338, in train_function  *\n        return step_function(self, iterator)\n    File \"/opt/homebrew/lib/python3.11/site-packages/keras/src/engine/training.py\", line 1322, in step_function  **\n        outputs = model.distribute_strategy.run(run_step, args=(data,))\n    File \"/opt/homebrew/lib/python3.11/site-packages/keras/src/engine/training.py\", line 1303, in run_step  **\n        outputs = model.train_step(data)\n    File \"/opt/homebrew/lib/python3.11/site-packages/keras/src/engine/training.py\", line 1080, in train_step\n        y_pred = self(x, training=True)\n    File \"/opt/homebrew/lib/python3.11/site-packages/keras/src/utils/traceback_utils.py\", line 70, in error_handler\n        raise e.with_traceback(filtered_tb) from None\n    File \"/opt/homebrew/lib/python3.11/site-packages/keras/src/engine/input_spec.py\", line 298, in assert_input_compatibility\n        raise ValueError(\n\n    ValueError: Input 0 of layer \"sequential\" is incompatible with the layer: expected shape=(None, 32, 32, 3), found shape=(None, 13)\n",
     "output_type": "error",
     "traceback": [
      "\u001b[0;31m---------------------------------------------------------------------------\u001b[0m",
      "\u001b[0;31mValueError\u001b[0m                                Traceback (most recent call last)",
      "Cell \u001b[0;32mIn[185], line 5\u001b[0m\n\u001b[1;32m      1\u001b[0m model\u001b[38;5;241m.\u001b[39mcompile(optimizer\u001b[38;5;241m=\u001b[39m\u001b[38;5;124m'\u001b[39m\u001b[38;5;124madam\u001b[39m\u001b[38;5;124m'\u001b[39m,\n\u001b[1;32m      2\u001b[0m               loss\u001b[38;5;241m=\u001b[39mtf\u001b[38;5;241m.\u001b[39mkeras\u001b[38;5;241m.\u001b[39mlosses\u001b[38;5;241m.\u001b[39mSparseCategoricalCrossentropy(from_logits\u001b[38;5;241m=\u001b[39m\u001b[38;5;28;01mTrue\u001b[39;00m),\n\u001b[1;32m      3\u001b[0m               metrics\u001b[38;5;241m=\u001b[39m[\u001b[38;5;124m'\u001b[39m\u001b[38;5;124maccuracy\u001b[39m\u001b[38;5;124m'\u001b[39m])\n\u001b[0;32m----> 5\u001b[0m history \u001b[38;5;241m=\u001b[39m \u001b[43mmodel\u001b[49m\u001b[38;5;241;43m.\u001b[39;49m\u001b[43mfit\u001b[49m\u001b[43m(\u001b[49m\u001b[43mX_train\u001b[49m\u001b[43m,\u001b[49m\u001b[43m \u001b[49m\u001b[43my_train\u001b[49m\u001b[43m,\u001b[49m\u001b[43m \u001b[49m\u001b[43mepochs\u001b[49m\u001b[38;5;241;43m=\u001b[39;49m\u001b[38;5;241;43m10\u001b[39;49m\u001b[43m,\u001b[49m\u001b[43m \u001b[49m\n\u001b[1;32m      6\u001b[0m \u001b[43m                    \u001b[49m\u001b[43mvalidation_data\u001b[49m\u001b[38;5;241;43m=\u001b[39;49m\u001b[43m(\u001b[49m\u001b[43mX_test\u001b[49m\u001b[43m,\u001b[49m\u001b[43m \u001b[49m\u001b[43my_test\u001b[49m\u001b[43m)\u001b[49m\u001b[43m)\u001b[49m\n",
      "File \u001b[0;32m/opt/homebrew/lib/python3.11/site-packages/keras/src/utils/traceback_utils.py:70\u001b[0m, in \u001b[0;36mfilter_traceback.<locals>.error_handler\u001b[0;34m(*args, **kwargs)\u001b[0m\n\u001b[1;32m     67\u001b[0m     filtered_tb \u001b[38;5;241m=\u001b[39m _process_traceback_frames(e\u001b[38;5;241m.\u001b[39m__traceback__)\n\u001b[1;32m     68\u001b[0m     \u001b[38;5;66;03m# To get the full stack trace, call:\u001b[39;00m\n\u001b[1;32m     69\u001b[0m     \u001b[38;5;66;03m# `tf.debugging.disable_traceback_filtering()`\u001b[39;00m\n\u001b[0;32m---> 70\u001b[0m     \u001b[38;5;28;01mraise\u001b[39;00m e\u001b[38;5;241m.\u001b[39mwith_traceback(filtered_tb) \u001b[38;5;28;01mfrom\u001b[39;00m \u001b[38;5;28;01mNone\u001b[39;00m\n\u001b[1;32m     71\u001b[0m \u001b[38;5;28;01mfinally\u001b[39;00m:\n\u001b[1;32m     72\u001b[0m     \u001b[38;5;28;01mdel\u001b[39;00m filtered_tb\n",
      "File \u001b[0;32m/var/folders/xn/2ls57jpn5pl8xqqsck561xd40000gn/T/__autograph_generated_file14vx_0xd.py:15\u001b[0m, in \u001b[0;36mouter_factory.<locals>.inner_factory.<locals>.tf__train_function\u001b[0;34m(iterator)\u001b[0m\n\u001b[1;32m     13\u001b[0m \u001b[38;5;28;01mtry\u001b[39;00m:\n\u001b[1;32m     14\u001b[0m     do_return \u001b[38;5;241m=\u001b[39m \u001b[38;5;28;01mTrue\u001b[39;00m\n\u001b[0;32m---> 15\u001b[0m     retval_ \u001b[38;5;241m=\u001b[39m ag__\u001b[38;5;241m.\u001b[39mconverted_call(ag__\u001b[38;5;241m.\u001b[39mld(step_function), (ag__\u001b[38;5;241m.\u001b[39mld(\u001b[38;5;28mself\u001b[39m), ag__\u001b[38;5;241m.\u001b[39mld(iterator)), \u001b[38;5;28;01mNone\u001b[39;00m, fscope)\n\u001b[1;32m     16\u001b[0m \u001b[38;5;28;01mexcept\u001b[39;00m:\n\u001b[1;32m     17\u001b[0m     do_return \u001b[38;5;241m=\u001b[39m \u001b[38;5;28;01mFalse\u001b[39;00m\n",
      "\u001b[0;31mValueError\u001b[0m: in user code:\n\n    File \"/opt/homebrew/lib/python3.11/site-packages/keras/src/engine/training.py\", line 1338, in train_function  *\n        return step_function(self, iterator)\n    File \"/opt/homebrew/lib/python3.11/site-packages/keras/src/engine/training.py\", line 1322, in step_function  **\n        outputs = model.distribute_strategy.run(run_step, args=(data,))\n    File \"/opt/homebrew/lib/python3.11/site-packages/keras/src/engine/training.py\", line 1303, in run_step  **\n        outputs = model.train_step(data)\n    File \"/opt/homebrew/lib/python3.11/site-packages/keras/src/engine/training.py\", line 1080, in train_step\n        y_pred = self(x, training=True)\n    File \"/opt/homebrew/lib/python3.11/site-packages/keras/src/utils/traceback_utils.py\", line 70, in error_handler\n        raise e.with_traceback(filtered_tb) from None\n    File \"/opt/homebrew/lib/python3.11/site-packages/keras/src/engine/input_spec.py\", line 298, in assert_input_compatibility\n        raise ValueError(\n\n    ValueError: Input 0 of layer \"sequential\" is incompatible with the layer: expected shape=(None, 32, 32, 3), found shape=(None, 13)\n"
     ]
    }
   ],
   "source": [
    "model.compile(optimizer='adam',\n",
    "              loss=tf.keras.losses.SparseCategoricalCrossentropy(from_logits=True),\n",
    "              metrics=['accuracy'])\n",
    "\n",
    "history = model.fit(X_train, y_train, epochs=10, \n",
    "                    validation_data=(X_test, y_test))"
   ]
  },
  {
   "cell_type": "code",
   "execution_count": null,
   "metadata": {},
   "outputs": [],
   "source": []
  }
 ],
 "metadata": {
  "kernelspec": {
   "display_name": "Python 3 (ipykernel)",
   "language": "python",
   "name": "python3"
  },
  "language_info": {
   "codemirror_mode": {
    "name": "ipython",
    "version": 3
   },
   "file_extension": ".py",
   "mimetype": "text/x-python",
   "name": "python",
   "nbconvert_exporter": "python",
   "pygments_lexer": "ipython3",
   "version": "3.11.4"
  }
 },
 "nbformat": 4,
 "nbformat_minor": 4
}
